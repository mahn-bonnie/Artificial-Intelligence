{
  "cells": [
    {
      "cell_type": "markdown",
      "metadata": {
        "id": "view-in-github",
        "colab_type": "text"
      },
      "source": [
        "<a href=\"https://colab.research.google.com/github/mahn-bonnie/Artificial-Intelligence/blob/master/Lab2b_Tasks.ipynb\" target=\"_parent\"><img src=\"https://colab.research.google.com/assets/colab-badge.svg\" alt=\"Open In Colab\"/></a>"
      ]
    },
    {
      "cell_type": "markdown",
      "source": [
        "# **Numpy**"
      ],
      "metadata": {
        "id": "QCqJ6THz7hXK"
      }
    },
    {
      "cell_type": "code",
      "source": [
        "#Task 1\n",
        "import numpy as np\n",
        "arr1=np.array([1,2,3,4])\n",
        "arr2=np.array([5,6,7,8])\n",
        "sumArr=arr1+arr2\n",
        "print(sumArr)\n",
        "print(type(sumArr))"
      ],
      "metadata": {
        "colab": {
          "base_uri": "https://localhost:8080/"
        },
        "id": "rZwYlvNQ7tfX",
        "outputId": "52ee6a4a-549d-4297-a521-e502cad7650b"
      },
      "execution_count": 22,
      "outputs": [
        {
          "output_type": "stream",
          "name": "stdout",
          "text": [
            "[ 6  8 10 12]\n",
            "<class 'numpy.ndarray'>\n"
          ]
        }
      ]
    },
    {
      "cell_type": "code",
      "source": [
        "#Task 2\n",
        "import numpy as np\n",
        "arr1=np.array([1,2,3,4])\n",
        "mulArr=arr1*5\n",
        "print(mulArr)"
      ],
      "metadata": {
        "colab": {
          "base_uri": "https://localhost:8080/"
        },
        "id": "9L3K_HYm70hM",
        "outputId": "9c6c4670-6502-4b5f-8ba0-b4005babee3f"
      },
      "execution_count": 23,
      "outputs": [
        {
          "output_type": "stream",
          "name": "stdout",
          "text": [
            "[ 5 10 15 20]\n"
          ]
        }
      ]
    },
    {
      "cell_type": "code",
      "source": [
        "#Task 3\n",
        "import numpy as np\n",
        "arr1=np.array([1,2,3,4])\n",
        "reArr=np.reshape(arr1,(2,2))\n",
        "reArr"
      ],
      "metadata": {
        "colab": {
          "base_uri": "https://localhost:8080/"
        },
        "id": "eT7Lm87M8ANR",
        "outputId": "bb96d9f6-ef36-42ad-a2b2-6e54d3934d0d"
      },
      "execution_count": 24,
      "outputs": [
        {
          "output_type": "execute_result",
          "data": {
            "text/plain": [
              "array([[1, 2],\n",
              "       [3, 4]])"
            ]
          },
          "metadata": {},
          "execution_count": 24
        }
      ]
    },
    {
      "cell_type": "code",
      "source": [
        "#Task 4\n",
        "import numpy as np\n",
        "\n",
        "arr1 = np.array([1, 2, 3, 4])\n",
        "strArr = (arr1)\n",
        "print(type(strArr))\n"
      ],
      "metadata": {
        "colab": {
          "base_uri": "https://localhost:8080/"
        },
        "id": "EsS6OtZj8TJR",
        "outputId": "4b131764-dbdb-4a9a-a317-43203ba8d561"
      },
      "execution_count": 37,
      "outputs": [
        {
          "output_type": "stream",
          "name": "stdout",
          "text": [
            "<class 'numpy.ndarray'>\n"
          ]
        }
      ]
    },
    {
      "cell_type": "code",
      "source": [
        "import numpy as np\n",
        "\n",
        "arr = np.array([5, 10, 15, 20])\n",
        "arr_str = (arr)\n",
        "print(type(arr_str))\n",
        "print(\"String Representation:\", arr_str)\n"
      ],
      "metadata": {
        "colab": {
          "base_uri": "https://localhost:8080/"
        },
        "id": "POIPeczC84ck",
        "outputId": "e3189e9e-06b5-421d-ce99-3f9ea1433d9e"
      },
      "execution_count": 39,
      "outputs": [
        {
          "output_type": "stream",
          "name": "stdout",
          "text": [
            "<class 'numpy.ndarray'>\n",
            "String Representation: [ 5 10 15 20]\n"
          ]
        }
      ]
    },
    {
      "cell_type": "code",
      "source": [
        "#Task 5\n",
        "import numpy as np\n",
        "arr=np.arange(0,101,2)\n",
        "print(arr)"
      ],
      "metadata": {
        "colab": {
          "base_uri": "https://localhost:8080/"
        },
        "id": "ZJyCvESR-EVw",
        "outputId": "3462ff01-c950-45ae-9457-bcba1a363e5a"
      },
      "execution_count": 40,
      "outputs": [
        {
          "output_type": "stream",
          "name": "stdout",
          "text": [
            "[  0   2   4   6   8  10  12  14  16  18  20  22  24  26  28  30  32  34\n",
            "  36  38  40  42  44  46  48  50  52  54  56  58  60  62  64  66  68  70\n",
            "  72  74  76  78  80  82  84  86  88  90  92  94  96  98 100]\n"
          ]
        }
      ]
    },
    {
      "cell_type": "code",
      "source": [
        "#Task 6\n",
        "import numpy as np\n",
        "arr1=np.array([1,3,5,7,2,3])\n",
        "arr2=np.array([2,3,5,7,2,4])\n",
        "result=np.where(arr1==arr2)\n",
        "print(result)"
      ],
      "metadata": {
        "colab": {
          "base_uri": "https://localhost:8080/"
        },
        "id": "VzdUCgKJ-ffJ",
        "outputId": "0c402e8a-d9c5-44c3-ebc7-60620997c3a7"
      },
      "execution_count": 41,
      "outputs": [
        {
          "output_type": "stream",
          "name": "stdout",
          "text": [
            "(array([1, 2, 3, 4]),)\n"
          ]
        }
      ]
    }
  ],
  "metadata": {
    "colab": {
      "provenance": [],
      "authorship_tag": "ABX9TyMUp38c+RKPVH/YPO25l45/",
      "include_colab_link": true
    },
    "kernelspec": {
      "display_name": "Python 3",
      "name": "python3"
    },
    "language_info": {
      "name": "python"
    }
  },
  "nbformat": 4,
  "nbformat_minor": 0
}