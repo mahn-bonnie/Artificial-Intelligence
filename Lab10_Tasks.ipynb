{
  "cells": [
    {
      "cell_type": "markdown",
      "metadata": {
        "id": "view-in-github",
        "colab_type": "text"
      },
      "source": [
        "<a href=\"https://colab.research.google.com/github/mahn-bonnie/Artificial-Intelligence/blob/master/Lab10_Tasks.ipynb\" target=\"_parent\"><img src=\"https://colab.research.google.com/assets/colab-badge.svg\" alt=\"Open In Colab\"/></a>"
      ]
    },
    {
      "cell_type": "code",
      "source": [
        "import gym\n",
        "import numpy as np\n",
        "\n",
        "env = gym.make('Taxi-v3')\n",
        "state = env.observation_space.n\n",
        "action = env.action_space.n\n",
        "\n",
        "def choose_action(state, Q, epsilon):\n",
        "    if np.random.uniform(0, 1) < epsilon:\n",
        "        # Choose a random action\n",
        "        return env.action_space.sample()\n",
        "    else:\n",
        "\n",
        "        return np.argmax(Q[state, :])\n",
        "\n",
        "\n",
        "Q = np.zeros((state,action))\n",
        "\n",
        "\n",
        "alpha = 0.1\n",
        "gamma = 0.9\n",
        "epsilon = 0.5\n",
        "num_episodes = 100000\n",
        "\n",
        "\n",
        "for i in range(num_episodes):\n",
        "\n",
        "    state = env.reset()\n",
        "    done = False\n",
        "    while not done:\n",
        "\n",
        "        action = choose_action(state, Q, epsilon)\n",
        "\n",
        "        next, reward, done, info = env.step(action)\n",
        "\n",
        "        Q[state, action] += alpha * (reward + gamma * np.max(Q[next, :]) - Q[state, action])\n",
        "\n",
        "        state = next\n",
        "\n",
        "\n",
        "num_episodes = 1000\n",
        "total_reward = 0\n",
        "for i in range(num_episodes):\n",
        "\n",
        "    state = env.reset()\n",
        "    done = False\n",
        "    while not done:\n",
        "\n",
        "        action = np.argmax(Q[state, :])\n",
        "\n",
        "        next_state, reward, done, info = env.step(action)\n",
        "\n",
        "        total_reward += reward\n",
        "\n",
        "        state = next_state\n",
        "\n",
        "\n",
        "print(\"Average reward per episode:\", total_reward / num_episodes)"
      ],
      "metadata": {
        "colab": {
          "base_uri": "https://localhost:8080/"
        },
        "id": "V6mVhfkTc9S0",
        "outputId": "7b1fc793-f44f-47e8-ecde-7f8a54fd104f"
      },
      "execution_count": 72,
      "outputs": [
        {
          "output_type": "stream",
          "name": "stderr",
          "text": [
            "/usr/local/lib/python3.10/dist-packages/gym/core.py:317: DeprecationWarning: \u001b[33mWARN: Initializing wrapper in old step API which returns one bool instead of two. It is recommended to set `new_step_api=True` to use new step API. This will be the default behaviour in future.\u001b[0m\n",
            "  deprecation(\n",
            "/usr/local/lib/python3.10/dist-packages/gym/wrappers/step_api_compatibility.py:39: DeprecationWarning: \u001b[33mWARN: Initializing environment in old step API which returns one bool instead of two. It is recommended to set `new_step_api=True` to use new step API. This will be the default behaviour in future.\u001b[0m\n",
            "  deprecation(\n",
            "/usr/local/lib/python3.10/dist-packages/gym/utils/passive_env_checker.py:241: DeprecationWarning: `np.bool8` is a deprecated alias for `np.bool_`.  (Deprecated NumPy 1.24)\n",
            "  if not isinstance(terminated, (bool, np.bool8)):\n"
          ]
        },
        {
          "output_type": "stream",
          "name": "stdout",
          "text": [
            "Average reward per episode: 7.905\n"
          ]
        }
      ]
    },
    {
      "cell_type": "code",
      "source": [
        "import numpy as np\n",
        "import gym\n",
        "\n",
        "env = gym.make('FrozenLake-v1')\n",
        "\n",
        "alpha = 0.1\n",
        "gamma = 0.9\n",
        "epsilon= 0.5\n",
        "\n",
        "num_episodes = 100000\n",
        "\n",
        "state = env.observation_space.n\n",
        "action = env.action_space.n\n",
        "\n",
        "Q = np.zeros((env.observation_space.n,env.action_space.n))\n",
        "\n",
        "\n",
        "for i in range(num_episodes):\n",
        "  state = env.reset()\n",
        "  done = False\n",
        "  total_reward = 0\n",
        "\n",
        "  while not done:\n",
        "\n",
        "    if np.random.uniform(0,1) < epsilon:\n",
        "\n",
        "      action = env.action_space.sample()\n",
        "\n",
        "    else:\n",
        "      action = np.argmax(Q[state,:])\n",
        "\n",
        "    next_state,reward,done,info = env.step(action)\n",
        "\n",
        "    Q[state, action] = Q[state, action] + alpha * (reward + gamma * np.max(Q[next_state, :]) - Q[state, action])\n",
        "\n",
        "    state = next_state\n",
        "\n",
        "num_test_episodes = 1000\n",
        "num_test_steps = 1000\n",
        "num_successes = 0\n",
        "\n",
        "for i in range(num_test_episodes):\n",
        "  state = env.reset()\n",
        "  done = False\n",
        "  steps = 0\n",
        "\n",
        "  while not done and steps < num_test_steps:\n",
        "\n",
        "    action = np.argmax(Q[state, :])\n",
        "\n",
        "\n",
        "    next_state, reward, done, info = env.step(action)\n",
        "\n",
        "\n",
        "    state = next_state\n",
        "    steps += 1\n",
        "\n",
        "  if state == 15:\n",
        "    num_successes += 1\n",
        "\n",
        "print(\"Success rate:\", num_successes/num_test_episodes)"
      ],
      "metadata": {
        "colab": {
          "base_uri": "https://localhost:8080/"
        },
        "id": "Kq3d3mONdOCr",
        "outputId": "343395ae-b7d4-481d-f519-585a2e49a496"
      },
      "execution_count": 73,
      "outputs": [
        {
          "output_type": "stream",
          "name": "stdout",
          "text": [
            "Success rate: 0.456\n"
          ]
        }
      ]
    },
    {
      "cell_type": "code",
      "source": [
        "import gym\n",
        "import numpy as np\n",
        "\n",
        "env = gym.make('Taxi-v3')\n",
        "\n",
        "state = env.observation_space.n\n",
        "action = env.action_space.n\n",
        "\n",
        "def choose_action(state, Q, epsilon):\n",
        "    if np.random.uniform(0, 1) < epsilon:\n",
        "        # Choose a random action\n",
        "        return env.action_space.sample()\n",
        "    else:\n",
        "\n",
        "        return np.argmax(Q[state, :])\n",
        "\n",
        "\n",
        "Q = np.zeros((state,action))\n",
        "\n",
        "\n",
        "alpha = 0.1\n",
        "gamma = 0.9\n",
        "epsilon = 0.5\n",
        "num_episodes = 100000\n",
        "\n",
        "\n",
        "for i in range(num_episodes):\n",
        "\n",
        "    state = env.reset()\n",
        "    done = False\n",
        "    while not done:\n",
        "\n",
        "        action = choose_action(state, Q, epsilon)\n",
        "\n",
        "        next, reward, done, info = env.step(action)\n",
        "\n",
        "        Q[state, action] += alpha * (reward + gamma * np.max(Q[next, :]) - Q[state, action])\n",
        "\n",
        "        state = next_state\n",
        "\n",
        "\n",
        "num_episodes = 1000\n",
        "total_reward = 0\n",
        "for i in range(num_episodes):\n",
        "\n",
        "    state = env.reset()\n",
        "    done = False\n",
        "    while not done:\n",
        "\n",
        "        action = np.argmax(Q[state, :])\n",
        "\n",
        "        next_state, reward, done, info = env.step(action)\n",
        "\n",
        "        total_reward += reward\n",
        "\n",
        "        state = next_state\n",
        "\n",
        "\n",
        "print(\"Average reward per episode:\", total_reward / num_episodes)\n"
      ],
      "metadata": {
        "id": "Gd00qZgteKYU"
      },
      "execution_count": null,
      "outputs": []
    }
  ],
  "metadata": {
    "colab": {
      "provenance": [],
      "authorship_tag": "ABX9TyPASYJrSQ9JCOrpBgd5DMFE",
      "include_colab_link": true
    },
    "kernelspec": {
      "display_name": "Python 3",
      "name": "python3"
    },
    "language_info": {
      "name": "python"
    }
  },
  "nbformat": 4,
  "nbformat_minor": 0
}