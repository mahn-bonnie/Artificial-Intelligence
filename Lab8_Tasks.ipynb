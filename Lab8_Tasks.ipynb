{
  "cells": [
    {
      "cell_type": "markdown",
      "metadata": {
        "id": "view-in-github",
        "colab_type": "text"
      },
      "source": [
        "<a href=\"https://colab.research.google.com/github/mahn-bonnie/Artificial-Intelligence/blob/master/Lab8_Tasks.ipynb\" target=\"_parent\"><img src=\"https://colab.research.google.com/assets/colab-badge.svg\" alt=\"Open In Colab\"/></a>"
      ]
    },
    {
      "cell_type": "code",
      "source": [
        "p1Prior = 0.3\n",
        "p2Prior = 0.2\n",
        "p3Prior = 0.5\n",
        "\n",
        "pDGivenP1 = 0.01\n",
        "pDGivenP2 = 0.03\n",
        "pDGivenP3 = 0.02\n",
        "\n",
        "pD = p1Prior * pDGivenP1 + p2Prior * pDGivenP2 + p3Prior * pDGivenP3\n",
        "\n",
        "posteriorP1 = (p1Prior * pDGivenP1) / pD\n",
        "posteriorP2 = (p2Prior * pDGivenP2) / pD\n",
        "posteriorP3 = (p3Prior * pDGivenP3) / pD\n",
        "\n",
        "if posteriorP1 > posteriorP2 and posteriorP1 > posteriorP3:\n",
        "    print(\"Plan 1 was most likely used and responsible.\")\n",
        "elif posteriorP2 > posteriorP1 and posteriorP2 > posteriorP3:\n",
        "    print(\"Plan 2 was most likely used and responsible.\")\n",
        "else:\n",
        "    print(\"Plan 3 was most likely used and responsible.\")\n"
      ],
      "metadata": {
        "colab": {
          "base_uri": "https://localhost:8080/"
        },
        "id": "_1OAhohuYtYy",
        "outputId": "3e14edd8-9899-49a5-e510-80a2a8c60ea1"
      },
      "execution_count": 47,
      "outputs": [
        {
          "output_type": "stream",
          "name": "stdout",
          "text": [
            "Plan 3 was most likely used and responsible.\n"
          ]
        }
      ]
    },
    {
      "cell_type": "code",
      "source": [],
      "metadata": {
        "id": "JBHQVqu7YuU0"
      },
      "execution_count": null,
      "outputs": []
    }
  ],
  "metadata": {
    "colab": {
      "provenance": [],
      "authorship_tag": "ABX9TyPzENBb1ENohg3TXf7oLjzP",
      "include_colab_link": true
    },
    "kernelspec": {
      "display_name": "Python 3",
      "name": "python3"
    },
    "language_info": {
      "name": "python"
    }
  },
  "nbformat": 4,
  "nbformat_minor": 0
}