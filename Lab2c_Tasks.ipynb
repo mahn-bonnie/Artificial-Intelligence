{
  "cells": [
    {
      "cell_type": "markdown",
      "metadata": {
        "id": "view-in-github",
        "colab_type": "text"
      },
      "source": [
        "<a href=\"https://colab.research.google.com/github/mahn-bonnie/Artificial-Intelligence/blob/master/Lab2c_Tasks.ipynb\" target=\"_parent\"><img src=\"https://colab.research.google.com/assets/colab-badge.svg\" alt=\"Open In Colab\"/></a>"
      ]
    },
    {
      "cell_type": "markdown",
      "source": [
        "# **Spacy**"
      ],
      "metadata": {
        "id": "-UpUz7KR_IG5"
      }
    },
    {
      "cell_type": "code",
      "source": [
        "#Task 1\n",
        "import spacy\n",
        "from spacy import displacy\n",
        "nlp = spacy.load(\"en_core_web_sm\")\n",
        "sentence= input(\"Enter the sentence: \")\n",
        "doc = nlp(sentence)\n",
        "displacy.serve(doc, style=\"dep\", port=49329)"
      ],
      "metadata": {
        "colab": {
          "base_uri": "https://localhost:8080/"
        },
        "id": "X3GM5nSj_OZf",
        "outputId": "d25610e0-9db9-4769-8f1c-477a120055fa"
      },
      "execution_count": 46,
      "outputs": [
        {
          "output_type": "stream",
          "name": "stdout",
          "text": [
            "Enter the sentence:  I'm having fun in coding AI and ML models\n",
            "\n",
            "Using the 'dep' visualizer\n",
            "Serving on http://0.0.0.0:49329 ...\n",
            "\n",
            "Shutting down server on port 49329.\n"
          ]
        }
      ]
    },
    {
      "cell_type": "code",
      "source": [
        "#Task 2\n",
        "import spacy\n",
        "from spacy import displacy\n",
        "nlp = spacy.load(\"en_core_web_sm\")\n",
        "sentence= input(\"Enter the sentence: \")\n",
        "doc = nlp(sentence)\n",
        "doc=set(doc)\n",
        "for token in doc:\n",
        "    print(token,token.idx)"
      ],
      "metadata": {
        "colab": {
          "base_uri": "https://localhost:8080/"
        },
        "id": "RJnvgy06_YCa",
        "outputId": "510e6a5b-d25c-4898-cfc4-6304e38542a9"
      },
      "execution_count": 45,
      "outputs": [
        {
          "output_type": "stream",
          "name": "stdout",
          "text": [
            "Enter the sentence: Using Anaconda (Jupyter Notebook) and Google Colab\n",
            "Using 0\n",
            "and 34\n",
            "( 15\n",
            "Colab 45\n",
            ") 32\n",
            "Anaconda 6\n",
            "Notebook 24\n",
            "Google 38\n",
            "Jupyter 16\n"
          ]
        }
      ]
    }
  ],
  "metadata": {
    "colab": {
      "provenance": [],
      "authorship_tag": "ABX9TyMYUAe4x0N5zyJBObvSWX9F",
      "include_colab_link": true
    },
    "kernelspec": {
      "display_name": "Python 3",
      "name": "python3"
    },
    "language_info": {
      "name": "python"
    }
  },
  "nbformat": 4,
  "nbformat_minor": 0
}