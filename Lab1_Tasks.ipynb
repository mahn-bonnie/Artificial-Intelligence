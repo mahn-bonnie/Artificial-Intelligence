{
  "cells": [
    {
      "cell_type": "markdown",
      "metadata": {
        "id": "view-in-github",
        "colab_type": "text"
      },
      "source": [
        "<a href=\"https://colab.research.google.com/github/mahn-bonnie/Artificial-Intelligence/blob/master/Lab1_Tasks.ipynb\" target=\"_parent\"><img src=\"https://colab.research.google.com/assets/colab-badge.svg\" alt=\"Open In Colab\"/></a>"
      ]
    },
    {
      "cell_type": "code",
      "execution_count": 1,
      "metadata": {
        "id": "wIvc7LqPkksg",
        "colab": {
          "base_uri": "https://localhost:8080/"
        },
        "outputId": "c9f1e39f-008c-4867-99d4-147da476d275"
      },
      "outputs": [
        {
          "output_type": "stream",
          "name": "stdout",
          "text": [
            "0\n",
            "1\n",
            "1\n",
            "2\n",
            "3\n",
            "5\n",
            "8\n",
            "13\n",
            "21\n",
            "34\n"
          ]
        }
      ],
      "source": [
        "#Task 1\n",
        "def fibonacci(n):\n",
        "    if n<=1:\n",
        "        return n\n",
        "    return fibonacci(n-1)+fibonacci(n-2)\n",
        "\n",
        "for i in range(10):\n",
        "    print(fibonacci(i))"
      ]
    },
    {
      "cell_type": "code",
      "source": [
        "#Task 2\n",
        "lst = [1,2,[3,4],[5,[100,200,['hello']],23,11],1,7]\n",
        "print(lst[3][1][2][0])"
      ],
      "metadata": {
        "colab": {
          "base_uri": "https://localhost:8080/"
        },
        "id": "c-zfyeXmwP5r",
        "outputId": "de33f38f-37d1-4767-8344-2b07ca345444"
      },
      "execution_count": 2,
      "outputs": [
        {
          "output_type": "stream",
          "name": "stdout",
          "text": [
            "hello\n"
          ]
        }
      ]
    },
    {
      "cell_type": "code",
      "source": [
        "#Task 3\n",
        "d = {\"k1\":[1,2,3,{\"tricky\":[\"oh\",\"man\",\"inception\",{\"target\":[1,2,3,\"hello\"]}]}]}\n",
        "print(d['k1'][3]['tricky'][3]['target'][3])"
      ],
      "metadata": {
        "colab": {
          "base_uri": "https://localhost:8080/"
        },
        "id": "pm-l-XN6xT3d",
        "outputId": "ed24bcd1-0ac0-4813-b3fa-f4b0f7d8f5df"
      },
      "execution_count": 3,
      "outputs": [
        {
          "output_type": "stream",
          "name": "stdout",
          "text": [
            "hello\n"
          ]
        }
      ]
    },
    {
      "cell_type": "code",
      "source": [
        "#Task 4\n",
        "def hurry(speed,anniversary):\n",
        "    if speed<=70 or (anniversary and speed<=80):\n",
        "        return \"No Fine\"\n",
        "    elif speed>=71 and speed<=80 or (anniversary and speed>=81 and speed<=90):\n",
        "        return \"Less Fine\"\n",
        "    else:\n",
        "        return \"Car Seize\"\n",
        "\n",
        "print(hurry(91,True))\n",
        ""
      ],
      "metadata": {
        "colab": {
          "base_uri": "https://localhost:8080/"
        },
        "id": "ntBp4AkHxhdI",
        "outputId": "5ec7eac2-39bb-46ed-8b63-5fc25d7ef207"
      },
      "execution_count": 4,
      "outputs": [
        {
          "output_type": "stream",
          "name": "stdout",
          "text": [
            "Car Seize\n"
          ]
        }
      ]
    },
    {
      "cell_type": "code",
      "source": [
        "#Task 5\n",
        "arr=[1,2,3,4,6,7]\n",
        "def findDup(arrParam):\n",
        "    n=arr[0]\n",
        "    for i in range(len(arr)):\n",
        "        if i>0:\n",
        "            if n==arr[i]:\n",
        "                return True\n",
        "            else:\n",
        "                n=arr[i]\n",
        "    return False\n",
        "\n",
        "print(findDup(arr))"
      ],
      "metadata": {
        "colab": {
          "base_uri": "https://localhost:8080/"
        },
        "id": "7GVZR_1zxv22",
        "outputId": "9cbb94f8-6ee7-4c9b-bb89-a1a66783c07f"
      },
      "execution_count": 5,
      "outputs": [
        {
          "output_type": "stream",
          "name": "stdout",
          "text": [
            "False\n"
          ]
        }
      ]
    },
    {
      "cell_type": "code",
      "source": [
        "#Task 6\n",
        "\n",
        "import pandas\n",
        "df = pandas.read_csv(bonnie.csv)\n",
        "print(df)"
      ],
      "metadata": {
        "colab": {
          "base_uri": "https://localhost:8080/",
          "height": 193
        },
        "id": "8v9YNj9lx6Pu",
        "outputId": "8f755aeb-1487-49f9-831b-a17f5b6fb88f"
      },
      "execution_count": 7,
      "outputs": [
        {
          "output_type": "error",
          "ename": "NameError",
          "evalue": "name 'bonnie' is not defined",
          "traceback": [
            "\u001b[0;31m---------------------------------------------------------------------------\u001b[0m",
            "\u001b[0;31mNameError\u001b[0m                                 Traceback (most recent call last)",
            "\u001b[0;32m<ipython-input-7-8bfc9e0df17c>\u001b[0m in \u001b[0;36m<cell line: 4>\u001b[0;34m()\u001b[0m\n\u001b[1;32m      2\u001b[0m \u001b[0;34m\u001b[0m\u001b[0m\n\u001b[1;32m      3\u001b[0m \u001b[0;32mimport\u001b[0m \u001b[0mpandas\u001b[0m\u001b[0;34m\u001b[0m\u001b[0;34m\u001b[0m\u001b[0m\n\u001b[0;32m----> 4\u001b[0;31m \u001b[0mdf\u001b[0m \u001b[0;34m=\u001b[0m \u001b[0mpandas\u001b[0m\u001b[0;34m.\u001b[0m\u001b[0mread_csv\u001b[0m\u001b[0;34m(\u001b[0m\u001b[0mbonnie\u001b[0m\u001b[0;34m)\u001b[0m\u001b[0;34m\u001b[0m\u001b[0;34m\u001b[0m\u001b[0m\n\u001b[0m\u001b[1;32m      5\u001b[0m \u001b[0mprint\u001b[0m\u001b[0;34m(\u001b[0m\u001b[0mdf\u001b[0m\u001b[0;34m)\u001b[0m\u001b[0;34m\u001b[0m\u001b[0;34m\u001b[0m\u001b[0m\n",
            "\u001b[0;31mNameError\u001b[0m: name 'bonnie' is not defined"
          ]
        }
      ]
    },
    {
      "cell_type": "code",
      "source": [
        "#Task 7\n",
        "str=\"Bonnie1234\"\n",
        "countNum=0\n",
        "countLetter=0\n",
        "for i in range(len(str)):\n",
        "    if ord(str[i])>=48 and ord(str[i])<=57:\n",
        "        countNum+=1\n",
        "    else:\n",
        "        countLetter+=1\n",
        "print(countLetter)\n",
        "print(countNum)"
      ],
      "metadata": {
        "colab": {
          "base_uri": "https://localhost:8080/"
        },
        "id": "enCJE5DiyDtQ",
        "outputId": "6b80b3d4-e38b-4eba-985d-fc7eb338adf0"
      },
      "execution_count": 8,
      "outputs": [
        {
          "output_type": "stream",
          "name": "stdout",
          "text": [
            "6\n",
            "4\n"
          ]
        }
      ]
    },
    {
      "cell_type": "code",
      "source": [],
      "metadata": {
        "id": "5DxyCeduyoYZ"
      },
      "execution_count": null,
      "outputs": []
    }
  ],
  "metadata": {
    "colab": {
      "provenance": [],
      "authorship_tag": "ABX9TyNuF61WlwqoORenfL0DbYyG",
      "include_colab_link": true
    },
    "kernelspec": {
      "display_name": "Python 3",
      "name": "python3"
    },
    "language_info": {
      "name": "python"
    }
  },
  "nbformat": 4,
  "nbformat_minor": 0
}
