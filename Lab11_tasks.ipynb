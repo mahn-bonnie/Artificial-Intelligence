{
  "nbformat": 4,
  "nbformat_minor": 0,
  "metadata": {
    "colab": {
      "provenance": [],
      "authorship_tag": "ABX9TyP/Fz6XINvxtD4ub0LrkSG1",
      "include_colab_link": true
    },
    "kernelspec": {
      "name": "python3",
      "display_name": "Python 3"
    },
    "language_info": {
      "name": "python"
    }
  },
  "cells": [
    {
      "cell_type": "markdown",
      "metadata": {
        "id": "view-in-github",
        "colab_type": "text"
      },
      "source": [
        "<a href=\"https://colab.research.google.com/github/mahn-bonnie/Artificial-Intelligence/blob/master/Lab11_tasks.ipynb\" target=\"_parent\"><img src=\"https://colab.research.google.com/assets/colab-badge.svg\" alt=\"Open In Colab\"/></a>"
      ]
    },
    {
      "cell_type": "code",
      "execution_count": 1,
      "metadata": {
        "colab": {
          "base_uri": "https://localhost:8080/"
        },
        "id": "okb1lA_Jfrk5",
        "outputId": "131cdd18-de1a-48f7-f943-dd2aa5f8f2e1"
      },
      "outputs": [
        {
          "output_type": "stream",
          "name": "stdout",
          "text": [
            "[4.0, 3.605551275463989, 5.0990195135927845, 5.385164807134504, 10.295630140987]\n"
          ]
        }
      ],
      "source": [
        "import random\n",
        "from math import sqrt\n",
        "class ICE:\n",
        "    environment=[]\n",
        "    distancePoints=[]\n",
        "    def __init__(self,n):\n",
        "        self.environment=[['' for i in range(n)] for i in range(n)]\n",
        "        self.distancePoints=[]\n",
        "\n",
        "    def euclideanDistance(self,x2,y2):\n",
        "        distance=sqrt((((x2-4)**2)+((y2-0)**2)))\n",
        "        return distance\n",
        "\n",
        "    def setReferencePoint(self):\n",
        "        if self.environment[4][0]=='':\n",
        "            self.environment[4][0]='R'\n",
        "\n",
        "    def placeRobotPositions(self):\n",
        "        robots=['A','B','C','D','N']\n",
        "        j=0\n",
        "        while True:\n",
        "            roboChoice=robots[j]\n",
        "            randX=random.randint(0,len(self.environment)-1)\n",
        "            randY=random.randint(0,len(self.environment)-1)\n",
        "            if self.environment[randX][randY]=='':\n",
        "                self.environment[randX][randY]=roboChoice\n",
        "                j+=1\n",
        "            if j==len(robots):\n",
        "                break\n",
        "\n",
        "    def calculateDistance(self,x2,y2):\n",
        "        self.distancePoints.append(self.euclideanDistance(x2,y2))\n",
        "\n",
        "    def runEnvironment(self):\n",
        "        self.setReferencePoint()\n",
        "        self.placeRobotPositions()\n",
        "        for i in range(len(self.environment)):\n",
        "            for j in range(len(self.environment[i])):\n",
        "                if self.environment[i][j]!='' and self.environment[i][j]!='R':\n",
        "                    self.calculateDistance(i,j)\n",
        "\n",
        "    def printDistance(self):\n",
        "        print(self.distancePoints)\n",
        "\n",
        "\n",
        "iceObj=ICE(10)\n",
        "iceObj.runEnvironment()\n",
        "iceObj.printDistance()\n",
        "\n",
        ""
      ]
    },
    {
      "cell_type": "code",
      "source": [
        "import random\n",
        "from math import sqrt\n",
        "class ICE:\n",
        "    environment=[]\n",
        "    distancePoints=[]\n",
        "    def __init__(self,n):\n",
        "        self.environment=[['' for i in range(n)] for i in range(n)]\n",
        "        self.distancePoints=[]\n",
        "\n",
        "    def euclideanDistance(self,x2,y2):\n",
        "        distance=sqrt((((x2-4)**2)+((y2-0)**2)))\n",
        "        return distance\n",
        "\n",
        "    def setReferencePoint(self):\n",
        "        if self.environment[4][0]=='':\n",
        "            self.environment[4][0]='R'\n",
        "\n",
        "    def placeRobotPositions(self):\n",
        "        robots=['A','B','C','D','N']\n",
        "        j=0\n",
        "        while True:\n",
        "            roboChoice=robots[j]\n",
        "            randX=random.randint(0,len(self.environment)-1)\n",
        "            randY=random.randint(0,len(self.environment)-1)\n",
        "            if self.environment[randX][randY]=='':\n",
        "                self.environment[randX][randY]=roboChoice\n",
        "                j+=1\n",
        "            if j==len(robots):\n",
        "                break\n",
        "\n",
        "    def calculateDistance(self,x2,y2):\n",
        "        self.distancePoints.append(self.euclideanDistance(x2,y2))\n",
        "\n",
        "    def runEnvironment(self):\n",
        "        self.setReferencePoint()\n",
        "        self.placeRobotPositions()\n",
        "        for i in range(len(self.environment)):\n",
        "            for j in range(len(self.environment[i])):\n",
        "                if self.environment[i][j]!='' and self.environment[i][j]!='R':\n",
        "                    self.calculateDistance(i,j)\n",
        "\n",
        "    def printDistance(self):\n",
        "        print(self.distancePoints)\n",
        "\n",
        "\n",
        "iceObj=ICE(10)\n",
        "iceObj.runEnvironment()\n",
        "iceObj.printDistance()\n",
        "\n",
        ""
      ],
      "metadata": {
        "colab": {
          "base_uri": "https://localhost:8080/"
        },
        "id": "ZCAetRT9fxkN",
        "outputId": "9a484e74-adb5-4a76-ec59-22ef9cfb0ab4"
      },
      "execution_count": 2,
      "outputs": [
        {
          "output_type": "stream",
          "name": "stdout",
          "text": [
            "[6.708203932499369, 7.615773105863909, 3.1622776601683795, 6.708203932499369, 8.06225774829855]\n"
          ]
        }
      ]
    },
    {
      "cell_type": "code",
      "source": [
        "import random\n",
        "class UAV:\n",
        "    sensors=[]\n",
        "\n",
        "    def __init__(self):\n",
        "        self.sensors=[]\n",
        "\n",
        "    def inputTemp(self):\n",
        "        for i in range(9):\n",
        "            self.sensors.append(random.uniform(20,55))\n",
        "\n",
        "    def calAvg(self):\n",
        "        sumTemp=0\n",
        "        for temp in self.sensors:\n",
        "            sumTemp+=temp\n",
        "        avgTemp=sumTemp/9\n",
        "        fahTemp=(avgTemp*1.8)+32\n",
        "        print(\"The average temperature in fahrenheit is: \",fahTemp)\n",
        "\n",
        "\n",
        "uavObj=UAV()\n",
        "uavObj.inputTemp()\n",
        "uavObj.calAvg()"
      ],
      "metadata": {
        "colab": {
          "base_uri": "https://localhost:8080/"
        },
        "id": "cSDBSutJf9hJ",
        "outputId": "b82af5fd-52c8-4b65-d033-1d7f5b7c49b0"
      },
      "execution_count": 3,
      "outputs": [
        {
          "output_type": "stream",
          "name": "stdout",
          "text": [
            "The average temperature in fahrenheit is:  93.59754347758064\n"
          ]
        }
      ]
    },
    {
      "cell_type": "code",
      "source": [
        "import random\n",
        "class Model:\n",
        "    environment=[]\n",
        "    path=[]\n",
        "    def __init__(self,n,m):\n",
        "        self.environment=[['' for j in range(m)] for i in range(n)]\n",
        "        self.path=[]\n",
        "\n",
        "    def setEnvironment(self):\n",
        "        choices=['D','B','C']\n",
        "        for i in range(len(self.environment)):\n",
        "            for j in range(len(self.environment[i])):\n",
        "                self.environment[i][j]=random.choice(choices)\n",
        "        self.environment[0][0]='D'\n",
        "\n",
        "    def runEnvironment(self):\n",
        "        i,j=0,0\n",
        "        while True:\n",
        "            if self.environment[i][j]=='C':\n",
        "                continue\n",
        "            self.path.append((i,j))\n",
        "            self.environment[i][j]='C'\n",
        "            for row in self.environment:\n",
        "                print(row)\n",
        "            print('\\n\\n')\n",
        "            if i>0 and self.environment[i-1][j]=='D':\n",
        "                i-=1\n",
        "                continue\n",
        "            elif i<len(self.environment) and self.environment[i+1][j]=='D':\n",
        "                i+=1\n",
        "                continue\n",
        "            elif j>0 and self.environment[i][j-1]=='D':\n",
        "                j-=1\n",
        "                continue\n",
        "            elif j<len(self.environment[i]) and self.environment[i][j+1]=='D':\n",
        "                j+=1\n",
        "                continue\n",
        "            else:\n",
        "                break\n",
        "        self.printPath()\n",
        "\n",
        "    def printPath(self):\n",
        "        print(self.path)\n",
        "\n",
        "\n",
        "modelObj=Model(10,5)\n",
        "modelObj.setEnvironment()\n",
        "modelObj.runEnvironment()"
      ],
      "metadata": {
        "colab": {
          "base_uri": "https://localhost:8080/"
        },
        "id": "hp1Y-OGHgDu1",
        "outputId": "fe275e6a-b54d-4f8d-e8ab-dc2c46de654c"
      },
      "execution_count": 4,
      "outputs": [
        {
          "output_type": "stream",
          "name": "stdout",
          "text": [
            "['C', 'D', 'D', 'D', 'D']\n",
            "['D', 'C', 'C', 'C', 'C']\n",
            "['C', 'D', 'C', 'B', 'D']\n",
            "['C', 'B', 'D', 'D', 'C']\n",
            "['B', 'D', 'B', 'D', 'D']\n",
            "['D', 'D', 'D', 'C', 'D']\n",
            "['B', 'B', 'B', 'C', 'D']\n",
            "['B', 'D', 'D', 'C', 'C']\n",
            "['D', 'B', 'B', 'C', 'D']\n",
            "['B', 'B', 'D', 'C', 'D']\n",
            "\n",
            "\n",
            "\n",
            "['C', 'D', 'D', 'D', 'D']\n",
            "['C', 'C', 'C', 'C', 'C']\n",
            "['C', 'D', 'C', 'B', 'D']\n",
            "['C', 'B', 'D', 'D', 'C']\n",
            "['B', 'D', 'B', 'D', 'D']\n",
            "['D', 'D', 'D', 'C', 'D']\n",
            "['B', 'B', 'B', 'C', 'D']\n",
            "['B', 'D', 'D', 'C', 'C']\n",
            "['D', 'B', 'B', 'C', 'D']\n",
            "['B', 'B', 'D', 'C', 'D']\n",
            "\n",
            "\n",
            "\n",
            "[(0, 0), (1, 0)]\n"
          ]
        }
      ]
    },
    {
      "cell_type": "code",
      "source": [
        "class TSP:\n",
        "    graph=[]\n",
        "    visited=[]\n",
        "    cost={}\n",
        "\n",
        "    def __init__(self,n):\n",
        "        self.graph=[[] for i in range(n)]\n",
        "        self.visited=[False for i in range(n)]\n",
        "        self.cost=dict()\n",
        "\n",
        "    def tspInit(self):\n",
        "        self.graph[0].append(1)\n",
        "        self.graph[0].append(2)\n",
        "        self.graph[0].append(3)\n",
        "\n",
        "        self.graph[1].append(0)\n",
        "        self.graph[1].append(2)\n",
        "        self.graph[1].append(3)\n",
        "\n",
        "        self.graph[2].append(0)\n",
        "        self.graph[2].append(1)\n",
        "        self.graph[2].append(3)\n",
        "\n",
        "        self.graph[3].append(0)\n",
        "        self.graph[3].append(1)\n",
        "        self.graph[3].append(2)\n",
        "\n",
        "\n",
        "        self.cost[(0, 1)] = 10\n",
        "        self.cost[(0, 2)] = 15\n",
        "        self.cost[(0, 3)] = 20\n",
        "\n",
        "        self.cost[(1, 0)] = 10\n",
        "        self.cost[(1, 2)] = 35\n",
        "        self.cost[(1, 3)] = 25\n",
        "\n",
        "        self.cost[(2, 0)] = 15\n",
        "        self.cost[(2, 1)] = 35\n",
        "        self.cost[(2, 3)] = 30\n",
        "\n",
        "        self.cost[(3, 0)] = 20\n",
        "        self.cost[(3, 1)] = 25\n",
        "        self.cost[(3, 2)] = 30\n",
        "\n",
        "    def runTSP(self,source):\n",
        "\n",
        "        count=0\n",
        "        path=[]\n",
        "        finalCost=0\n",
        "        tempSource=source\n",
        "        while [item for item in self.visited if item==True]!=self.visited:\n",
        "            index=-1\n",
        "            min=9999\n",
        "            for i in range(len(self.graph[source])):\n",
        "                if self.visited[self.graph[source][i]]==False and self.graph[source][i]!=source and min>self.cost[(source,self.graph[source][i])]:\n",
        "                    min=self.cost[(source,self.graph[source][i])]\n",
        "                    index=self.graph[source][i]\n",
        "\n",
        "            if index!=-1:\n",
        "                finalCost+=self.cost[(source,index)]\n",
        "                path.append(source)\n",
        "                self.visited[source]=True\n",
        "                source=index\n",
        "                count+=1\n",
        "\n",
        "            if count==len(self.graph)-1:\n",
        "                self.visited[tempSource]=False\n",
        "            elif count==len(self.graph):\n",
        "                self.visited[tempSource]=True\n",
        "                path.append(tempSource)\n",
        "\n",
        "        print(path)\n",
        "        print(finalCost)\n",
        "\n",
        "\n",
        "tspObj=TSP(4)\n",
        "tspObj.tspInit()\n",
        "tspObj.runTSP(0)\n"
      ],
      "metadata": {
        "colab": {
          "base_uri": "https://localhost:8080/"
        },
        "id": "C44f1KT9gKN9",
        "outputId": "b690c144-4070-4a57-dabb-0757b9839862"
      },
      "execution_count": 5,
      "outputs": [
        {
          "output_type": "stream",
          "name": "stdout",
          "text": [
            "[0, 1, 3, 2, 0]\n",
            "80\n"
          ]
        }
      ]
    }
  ]
}